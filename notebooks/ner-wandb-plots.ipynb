{
 "cells": [
  {
   "cell_type": "code",
   "execution_count": 1,
   "metadata": {},
   "outputs": [],
   "source": [
    "import wandb\n",
    "import matplotlib.pyplot as plt\n",
    "import scipy\n",
    "import numpy as np\n",
    "import json\n",
    "\n",
    "plt.rcParams[\"axes.grid\"] = False\n",
    "\n",
    "sys.path.append('..')"
   ]
  },
  {
   "cell_type": "code",
   "execution_count": 2,
   "metadata": {},
   "outputs": [],
   "source": [
    "language = 'french'\n",
    "\n",
    "sys.argv = [\n",
    "\"--device cuda\",\n",
    "\"--data-folder\", \"..\\\\data\",\n",
    "\"--seed\", \"13\",\n",
    "\"--configuration\", \"char-to-char\",\n",
    "\"--language\", language,\n",
    "\"--challenge\", \"post-ocr-correction\"]"
   ]
  },
  {
   "cell_type": "code",
   "execution_count": 3,
   "metadata": {},
   "outputs": [],
   "source": [
    "# Configure container:\n",
    "from dependency_injection.ioc_container import IocContainer\n",
    "\n",
    "container = IocContainer()"
   ]
  },
  {
   "cell_type": "code",
   "execution_count": 4,
   "metadata": {},
   "outputs": [],
   "source": [
    "plot_service = container.plot_service()"
   ]
  },
  {
   "cell_type": "code",
   "execution_count": 5,
   "metadata": {},
   "outputs": [],
   "source": [
    "entity = 'eval-historical-texts'\n",
    "project = 'named-entity-recognition'"
   ]
  },
  {
   "cell_type": "code",
   "execution_count": 18,
   "metadata": {},
   "outputs": [],
   "source": [
    "def get_wandb_runs():\n",
    "    api = wandb.Api()\n",
    "    runs = api.runs(path=f'{entity}/{project}', filters={\n",
    "        'createdAt': {\n",
    "            '$gt': '20200515000000'\n",
    "        },\n",
    "        'config.language': language,\n",
    "        'config.split_documents': True,\n",
    "        'config.fine_tune_pretrained': False,\n",
    "        'config.include_pretrained_model': True,\n",
    "        'state': 'finished'\n",
    "    })\n",
    "\n",
    "    return runs"
   ]
  },
  {
   "cell_type": "code",
   "execution_count": 19,
   "metadata": {},
   "outputs": [
    {
     "output_type": "stream",
     "name": "stdout",
     "text": "Loaded 1 runs\n"
    }
   ],
   "source": [
    "runs = get_wandb_runs()\n",
    "print(f'Loaded {len(runs)} runs')"
   ]
  },
  {
   "cell_type": "code",
   "execution_count": 21,
   "metadata": {},
   "outputs": [
    {
     "output_type": "stream",
     "name": "stdout",
     "text": "1 tasks\n0.8087\n(max: 0.8087, std: 0.0)\n"
    }
   ],
   "source": [
    "result_dict = {}\n",
    "\n",
    "for i, run in enumerate(runs):\n",
    "    score_key = 'Best - f1-score-micro-partial-all-literal-coarse'\n",
    "    if len(run.summary.keys()) == 0 or run.summary['Epoch'] == 0 or score_key not in run.summary.keys():\n",
    "        continue\n",
    "\n",
    "    current_entity_tag_types = len(run.config['entity_tag_types'])\n",
    "    f1_micro_score = run.summary[score_key]\n",
    "\n",
    "    if current_entity_tag_types not in result_dict.keys():\n",
    "        result_dict[current_entity_tag_types] = []\n",
    "\n",
    "    result_dict[current_entity_tag_types].append(f1_micro_score)\n",
    "\n",
    "for tasks_amount, f1_scores in result_dict.items():\n",
    "    print(f'{tasks_amount} tasks\\n{round(np.mean(f1_scores), 4)}\\n(max: {round(max(f1_scores), 4)}, std: {round(np.std(f1_scores), 6)})')"
   ]
  },
  {
   "cell_type": "code",
   "execution_count": null,
   "metadata": {},
   "outputs": [],
   "source": []
  }
 ],
 "metadata": {
  "language_info": {
   "codemirror_mode": {
    "name": "ipython",
    "version": 3
   },
   "file_extension": ".py",
   "mimetype": "text/x-python",
   "name": "python",
   "nbconvert_exporter": "python",
   "pygments_lexer": "ipython3",
   "version": "3.7.5-final"
  },
  "orig_nbformat": 2,
  "kernelspec": {
   "name": "python37564bitevalenvcondab07c5918277c4c33a244293f5160293b",
   "display_name": "Python 3.7.5 64-bit ('eval-env': conda)"
  }
 },
 "nbformat": 4,
 "nbformat_minor": 2
}
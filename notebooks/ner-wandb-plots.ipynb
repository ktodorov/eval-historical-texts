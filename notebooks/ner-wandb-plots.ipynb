{
 "cells": [
  {
   "cell_type": "code",
   "execution_count": 1,
   "metadata": {},
   "outputs": [],
   "source": [
    "import wandb\n",
    "import matplotlib.pyplot as plt\n",
    "import scipy\n",
    "import numpy as np\n",
    "import json\n",
    "from collections import defaultdict\n",
    "from copy import deepcopy\n",
    "\n",
    "plt.rcParams[\"axes.grid\"] = False\n",
    "\n",
    "sys.path.append('..')"
   ]
  },
  {
   "cell_type": "code",
   "execution_count": 2,
   "metadata": {},
   "outputs": [],
   "source": [
    "language = 'german'\n",
    "\n",
    "sys.argv = [\n",
    "\"--device cuda\",\n",
    "\"--data-folder\", \"..\\\\data\",\n",
    "\"--seed\", \"13\",\n",
    "\"--configuration\", \"char-to-char\",\n",
    "\"--language\", language,\n",
    "\"--challenge\", \"named-entity-recognition\"]"
   ]
  },
  {
   "cell_type": "code",
   "execution_count": 3,
   "metadata": {},
   "outputs": [],
   "source": [
    "# Configure container:\n",
    "from dependency_injection.ioc_container import IocContainer\n",
    "\n",
    "container = IocContainer()"
   ]
  },
  {
   "cell_type": "code",
   "execution_count": 4,
   "metadata": {},
   "outputs": [],
   "source": [
    "plot_service = container.plot_service()\n",
    "file_service = container.file_service()"
   ]
  },
  {
   "cell_type": "code",
   "execution_count": 5,
   "metadata": {},
   "outputs": [],
   "source": [
    "entity = 'eval-historical-texts'\n",
    "project = 'named-entity-recognition'"
   ]
  },
  {
   "cell_type": "code",
   "execution_count": 6,
   "metadata": {},
   "outputs": [],
   "source": [
    "def get_wandb_runs(run_filters: dict):\n",
    "    api = wandb.Api()\n",
    "    runs = api.runs(path=f'{entity}/{project}', filters=run_filters)\n",
    "    return runs"
   ]
  },
  {
   "cell_type": "code",
   "execution_count": 7,
   "metadata": {
    "tags": []
   },
   "outputs": [],
   "source": [
    "wandb_path = os.path.join('..', 'wandb')\n",
    "dirnames = os.listdir(wandb_path)"
   ]
  },
  {
   "cell_type": "code",
   "execution_count": 8,
   "metadata": {
    "tags": []
   },
   "outputs": [],
   "source": [
    "def get_summary_value(run, key: str):\n",
    "    if key not in run.summary.keys():\n",
    "        return None\n",
    "\n",
    "    return run.summary[key]\n",
    "\n",
    "def get_average_score(run):\n",
    "    all_scores = [\n",
    "        get_summary_value(run, 'Best - f1-score-micro-partial-all-component'),\n",
    "        get_summary_value(run, 'Best - f1-score-micro-partial-all-literal-coarse'),\n",
    "        get_summary_value(run, 'Best - f1-score-micro-partial-all-literal-fine'),\n",
    "        get_summary_value(run, 'Best - f1-score-micro-partial-all-metonymic-coarse'),\n",
    "        get_summary_value(run, 'Best - f1-score-micro-partial-all-metonymic-fine'),\n",
    "        get_summary_value(run, 'Best - f1-score-micro-partial-all-nested')\n",
    "    ]\n",
    "\n",
    "    all_scores = [x for x in all_scores if x is not None]\n",
    "    avg_score = np.mean(all_scores)\n",
    "    return avg_score\n",
    "\n",
    "def normalize(x):\n",
    "    x = x + abs(np.min(x))\n",
    "    sum_of_rows = x.sum(axis=1)\n",
    "    normalized_array = x / sum_of_rows[:, np.newaxis]\n",
    "    return normalized_array\n",
    "\n",
    "def generate_heatmap(runs, filename_unique_str: str):\n",
    "    entity_keys = {}\n",
    "\n",
    "    best_run = None\n",
    "    best_avg_score= None\n",
    "    for run in runs:\n",
    "\n",
    "        avg_score = get_average_score(run)\n",
    "        if best_avg_score is None or avg_score > best_avg_score:\n",
    "            best_run = run\n",
    "            best_avg_score=avg_score\n",
    "\n",
    "\n",
    "    run = best_run\n",
    "    # for i, run in enumerate(runs):\n",
    "    run_history = run.history(keys=['CRF Transition matrix - literal-coarse', 'Validation - f1-score-micro-partial-all-literal-coarse'], pandas=False)\n",
    "    f1_scores = [x['Validation - f1-score-micro-partial-all-literal-coarse'] for x in run_history[0]]\n",
    "    best_iteration = np.argmax(f1_scores)\n",
    "    literal_fine_path = run_history[0][best_iteration]['CRF Transition matrix - literal-coarse']['path'].replace('/', '\\\\')\n",
    "\n",
    "    run_folders = [x for x in dirnames if run.id in x]\n",
    "    if len(run_folders) == 0:\n",
    "        raise Exception(f'No folder found for run {run.id}')\n",
    "\n",
    "    run_folder = run_folders[0]\n",
    "\n",
    "    full_path = os.path.join(wandb_path, run_folder, literal_fine_path)\n",
    "    with open(full_path, 'r') as matrix_file:\n",
    "        matrix_json = json.loads(matrix_file.read())\n",
    "\n",
    "        unique_keys_count = len(set([x[0] for x in matrix_json['data']]))\n",
    "        run_matrix = np.zeros((unique_keys_count, unique_keys_count))\n",
    "\n",
    "        for value in matrix_json['data']:\n",
    "            if value[0] == '[PAD]' or value[1] == '[PAD]' or (value[0] == '[SEP]' and value[1] == '[CLS]') or value[1] == '[SEP]' or value[0] == '[CLS]':\n",
    "                continue\n",
    "\n",
    "            if value[0] not in entity_keys.keys():\n",
    "                entity_keys[value[0]] = len(entity_keys.values())\n",
    "                \n",
    "            if value[1] not in entity_keys.keys():\n",
    "                entity_keys[value[1]] = len(entity_keys.values())\n",
    "            \n",
    "            x_value = entity_keys[value[1]]\n",
    "            y_value = entity_keys[value[0]]\n",
    "\n",
    "            matrix_value = value[2] #* -1\n",
    "            run_matrix[x_value][y_value] = matrix_value\n",
    "\n",
    "\n",
    "    # run_matrix = run_matrix / len(runs)\n",
    "    normalized_matrix = normalize(run_matrix)\n",
    "    # print(run_matrix)\n",
    "    # print('----------')\n",
    "    # print(normalized_matrix)\n",
    "        \n",
    "    ax = plot_service.create_plot()\n",
    "    plot_service.plot_heatmap(\n",
    "        values=normalized_matrix,\n",
    "        labels=entity_keys.keys(),\n",
    "        vmin=0,\n",
    "        vmax=1,\n",
    "        # show_colorbar=False,\n",
    "        x_title='To',\n",
    "        y_title='From',\n",
    "        ax=ax,\n",
    "        save_path=file_service.get_experiments_path(),\n",
    "        title=filename_unique_str,\n",
    "        filename=f'heatmap-{filename_unique_str}-coarse')"
   ]
  },
  {
   "cell_type": "code",
   "execution_count": 9,
   "metadata": {
    "tags": []
   },
   "outputs": [],
   "source": [
    "main_config = {\n",
    "    'createdAt': {\n",
    "        '$gt': '20200710000000'\n",
    "    },\n",
    "    'state': 'finished',\n",
    "\n",
    "    'config.language': language,\n",
    "    'config.hidden_dimension': 512,\n",
    "    'config.embeddings_size': 64,\n",
    "    'config.include_pretrained_model': False,\n",
    "    'config.include_fasttext_model': False,\n",
    "    'config.dropout': 0.8,\n",
    "    'config.learn_new_embeddings': True,\n",
    "    'config.fine_tune_pretrained': False,\n",
    "    'config.split_type': 'multi-segment'\n",
    "}\n",
    "\n",
    "available_filters = {\n",
    "    'none': {},\n",
    "    'fast-text': {\n",
    "        'config.include_fasttext_model': True\n",
    "    },\n",
    "    'both': {\n",
    "        'config.include_pretrained_model': True,\n",
    "        'config.include_fasttext_model': True\n",
    "    },\n",
    "    'bert': {\n",
    "        'config.hidden_dimension': 256,\n",
    "        'config.include_pretrained_model': True\n",
    "    },\n",
    "    'bert-no-new': {\n",
    "        'config.hidden_dimension': 256,\n",
    "        'config.include_pretrained_model': True,\n",
    "        'config.learn_new_embeddings': False\n",
    "    },\n",
    "    'both-finetune': {\n",
    "        'config.include_pretrained_model': True,\n",
    "        'config.include_fasttext_model': True,\n",
    "        'config.fine_tune_pretrained': True\n",
    "    },\n",
    "    'bert-finetune': {\n",
    "        'config.hidden_dimension': 256,\n",
    "        'config.include_pretrained_model': True,\n",
    "        'config.fine_tune_pretrained': True\n",
    "    },\n",
    "    'bert-no-new-finetune': {\n",
    "        'config.hidden_dimension': 256,\n",
    "        'config.include_pretrained_model': True,\n",
    "        'config.learn_new_embeddings': False,\n",
    "        'config.fine_tune_pretrained': True\n",
    "    }\n",
    "}"
   ]
  },
  {
   "cell_type": "code",
   "execution_count": 10,
   "metadata": {
    "tags": []
   },
   "outputs": [
    {
     "output_type": "error",
     "ename": "FileNotFoundError",
     "evalue": "[Errno 2] No such file or directory: '..\\\\wandb\\\\run-20200712_110725-bkfbyjhy\\\\media\\\\table\\\\CRF Transition matrix - literal-coarse_1140_8a06f55c.table.json'",
     "traceback": [
      "\u001b[1;31m---------------------------------------------------------------------------\u001b[0m",
      "\u001b[1;31mFileNotFoundError\u001b[0m                         Traceback (most recent call last)",
      "\u001b[1;32m<ipython-input-10-f67cf7239e4d>\u001b[0m in \u001b[0;36m<module>\u001b[1;34m\u001b[0m\n\u001b[0;32m      4\u001b[0m     \u001b[0mruns\u001b[0m \u001b[1;33m=\u001b[0m \u001b[0mget_wandb_runs\u001b[0m\u001b[1;33m(\u001b[0m\u001b[0mrun_filter\u001b[0m\u001b[1;33m)\u001b[0m\u001b[1;33m\u001b[0m\u001b[1;33m\u001b[0m\u001b[0m\n\u001b[0;32m      5\u001b[0m     \u001b[1;31m# print(f'Loaded {len(runs)} runs')\u001b[0m\u001b[1;33m\u001b[0m\u001b[1;33m\u001b[0m\u001b[1;33m\u001b[0m\u001b[0m\n\u001b[1;32m----> 6\u001b[1;33m     \u001b[0mgenerate_heatmap\u001b[0m\u001b[1;33m(\u001b[0m\u001b[0mruns\u001b[0m\u001b[1;33m,\u001b[0m \u001b[1;34mf'{language}-{unique_str}'\u001b[0m\u001b[1;33m)\u001b[0m\u001b[1;33m\u001b[0m\u001b[1;33m\u001b[0m\u001b[0m\n\u001b[0m\u001b[0;32m      7\u001b[0m     \u001b[1;31m# break\u001b[0m\u001b[1;33m\u001b[0m\u001b[1;33m\u001b[0m\u001b[1;33m\u001b[0m\u001b[0m\n",
      "\u001b[1;32m<ipython-input-8-5e90d57ec07d>\u001b[0m in \u001b[0;36mgenerate_heatmap\u001b[1;34m(runs, filename_unique_str)\u001b[0m\n\u001b[0;32m     52\u001b[0m \u001b[1;33m\u001b[0m\u001b[0m\n\u001b[0;32m     53\u001b[0m     \u001b[0mfull_path\u001b[0m \u001b[1;33m=\u001b[0m \u001b[0mos\u001b[0m\u001b[1;33m.\u001b[0m\u001b[0mpath\u001b[0m\u001b[1;33m.\u001b[0m\u001b[0mjoin\u001b[0m\u001b[1;33m(\u001b[0m\u001b[0mwandb_path\u001b[0m\u001b[1;33m,\u001b[0m \u001b[0mrun_folder\u001b[0m\u001b[1;33m,\u001b[0m \u001b[0mliteral_fine_path\u001b[0m\u001b[1;33m)\u001b[0m\u001b[1;33m\u001b[0m\u001b[1;33m\u001b[0m\u001b[0m\n\u001b[1;32m---> 54\u001b[1;33m     \u001b[1;32mwith\u001b[0m \u001b[0mopen\u001b[0m\u001b[1;33m(\u001b[0m\u001b[0mfull_path\u001b[0m\u001b[1;33m,\u001b[0m \u001b[1;34m'r'\u001b[0m\u001b[1;33m)\u001b[0m \u001b[1;32mas\u001b[0m \u001b[0mmatrix_file\u001b[0m\u001b[1;33m:\u001b[0m\u001b[1;33m\u001b[0m\u001b[1;33m\u001b[0m\u001b[0m\n\u001b[0m\u001b[0;32m     55\u001b[0m         \u001b[0mmatrix_json\u001b[0m \u001b[1;33m=\u001b[0m \u001b[0mjson\u001b[0m\u001b[1;33m.\u001b[0m\u001b[0mloads\u001b[0m\u001b[1;33m(\u001b[0m\u001b[0mmatrix_file\u001b[0m\u001b[1;33m.\u001b[0m\u001b[0mread\u001b[0m\u001b[1;33m(\u001b[0m\u001b[1;33m)\u001b[0m\u001b[1;33m)\u001b[0m\u001b[1;33m\u001b[0m\u001b[1;33m\u001b[0m\u001b[0m\n\u001b[0;32m     56\u001b[0m \u001b[1;33m\u001b[0m\u001b[0m\n",
      "\u001b[1;31mFileNotFoundError\u001b[0m: [Errno 2] No such file or directory: '..\\\\wandb\\\\run-20200712_110725-bkfbyjhy\\\\media\\\\table\\\\CRF Transition matrix - literal-coarse_1140_8a06f55c.table.json'"
     ]
    }
   ],
   "source": [
    "for unique_str, available_filter in available_filters.items():\n",
    "    run_filter = deepcopy(main_config)\n",
    "    run_filter.update(available_filter)\n",
    "    runs = get_wandb_runs(run_filter)\n",
    "    # print(f'Loaded {len(runs)} runs')\n",
    "    generate_heatmap(runs, f'{language}-{unique_str}')\n",
    "    # break\n"
   ]
  },
  {
   "cell_type": "code",
   "execution_count": 13,
   "metadata": {
    "tags": []
   },
   "outputs": [
    {
     "output_type": "execute_result",
     "data": {
      "text/plain": "1.0000000500000001"
     },
     "metadata": {},
     "execution_count": 13
    }
   ],
   "source": []
  }
 ],
 "metadata": {
  "language_info": {
   "codemirror_mode": {
    "name": "ipython",
    "version": 3
   },
   "file_extension": ".py",
   "mimetype": "text/x-python",
   "name": "python",
   "nbconvert_exporter": "python",
   "pygments_lexer": "ipython3",
   "version": "3.7.5-final"
  },
  "orig_nbformat": 2,
  "kernelspec": {
   "name": "python37564bitevalenvcondab07c5918277c4c33a244293f5160293b",
   "display_name": "Python 3.7.5 64-bit ('eval-env': conda)"
  }
 },
 "nbformat": 4,
 "nbformat_minor": 2
}
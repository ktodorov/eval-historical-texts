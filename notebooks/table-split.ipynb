{
 "cells": [
  {
   "cell_type": "code",
   "execution_count": 60,
   "metadata": {},
   "outputs": [],
   "source": [
    "original_table = r'''\\toprule\n",
    "                    \\multirow{3}{*}{\\textbf{Configuration}} & \\multicolumn{6}{c|}{\\textbf{Literal coarse}} & \\multicolumn{6}{c|}{\\textbf{Metonymic coarse}} & \\multicolumn{6}{c|}{\\textbf{Literal fine}} & \\multicolumn{6}{c|}{\\textbf{Metonymic fine}} & \\multicolumn{6}{c|}{\\textbf{Component}} & \\multicolumn{6}{c}{\\textbf{Nested}}   \\\\\n",
    "                    & \\multicolumn{3}{c}{\\textbf{Fuzzy}} & \\multicolumn{3}{c|}{\\textbf{Strict}} & \\multicolumn{3}{c}{\\textbf{Fuzzy}} & \\multicolumn{3}{c|}{\\textbf{Strict}} & \\multicolumn{3}{c}{\\textbf{Fuzzy}} & \\multicolumn{3}{c|}{\\textbf{Strict}} & \\multicolumn{3}{c}{\\textbf{Fuzzy}} & \\multicolumn{3}{c|}{\\textbf{Strict}} & \\multicolumn{3}{c}{\\textbf{Fuzzy}} & \\multicolumn{3}{c|}{\\textbf{Strict}} & \\multicolumn{3}{c}{\\textbf{Fuzzy}} & \\multicolumn{3}{c}{\\textbf{Strict}} \\\\\n",
    "                    & P & R & F & P & R & F & P & R & F & P & R & F & P & R & F & P & R & F & P & R & F & P & R & F & P & R & F & P & R & F & P & R & F & P & R & F \\\\\n",
    "                    \\midrule\n",
    "                    Base-64 \\Plus CE & .642 & .559 & .597 & .471 & .411 & .439 & \\underline{.628} & .25 & .358 & \\underline{.617} & .246 & .352 & .684 & .529 & .596 & .426 & \\textbf{.33} & \\underline{.372} & \\textbf{.663} & .242 & .354 & \\textbf{.651} & .237 & .348 & .567 & \\textbf{.316} & \\textbf{.405} & .45 & \\textbf{.251} & \\textbf{.322} & .0 & .0 & .0 & .0 & .0 & .0 \\\\\n",
    "                    Base-64 \\Plus CE \\Plus FT & .664 & .528 & .588 & .491 & .391 & .435 & \\textbf{.653} & \\textbf{.559} & \\textbf{.603} & \\textbf{.653} & \\textbf{.559} & \\textbf{.603} & .698 & .511 & .59 & \\underline{.444} & \\underline{.325} & \\textbf{.375} & \\underline{.65} & \\textbf{.568} & \\textbf{.606} & \\underline{.65} & \\textbf{.568} & \\textbf{.606} & \\underline{.632} & .277 & \\underline{.385} & .508 & .223 & .31 & .0 & .0 & .0 & .0 & .0 & .0 \\\\\n",
    "                    Base-768 \\Plus CE \\Plus FT & .695 & .52 & .595 & .513 & .384 & .44 & .597 & \\underline{.39} & \\underline{.472} & .597 & \\underline{.39} & \\underline{.472} & .746 & .483 & .586 & \\textbf{.454} & .294 & .357 & .58 & \\underline{.398} & \\underline{.472} & .58 & \\underline{.398} & \\underline{.472} & \\textbf{.645} & .248 & .358 & \\textbf{.56} & .216 & .312 & .0 & .0 & .0 & .0 & .0 & .0 \\\\\n",
    "                    Base-64 \\Plus CE \\Plus BERT & \\textbf{.842} & .554 & .668 & \\textbf{.668} & .439 & .53 & .0 & .0 & .0 & .0 & .0 & .0 & \\textbf{.839} & .516 & .639 & .391 & .241 & .298 & .0 & .0 & .0 & .0 & .0 & .0 & .484 & \\underline{.289} & .362 & .362 & .216 & .27 & .0 & .0 & .0 & .0 & .0 & .0 \\\\\n",
    "                    Base-300 \\Plus CE \\Plus BERT & \\underline{.804} & \\underline{.578} & \\textbf{.672} & \\underline{.645} & \\underline{.464} & \\textbf{.54} & .0 & .0 & .0 & .0 & .0 & .0 & \\underline{.813} & \\underline{.551} & \\underline{.657} & .367 & .248 & .296 & .0 & .0 & .0 & .0 & .0 & .0 & .622 & .231 & .337 & .481 & .179 & .261 & .0 & .0 & .0 & .0 & .0 & .0 \\\\\n",
    "                    Base-64 \\Plus CE \\Plus FT \\Plus BERT & .68 & \\textbf{.659} & \\underline{.669} & .516 & \\textbf{.5} & .508 & .0 & .0 & .0 & .0 & .0 & .0 & .774 & \\textbf{.619} & \\textbf{.688} & .31 & .248 & .275 & .0 & .0 & .0 & .0 & .0 & .0 & .51 & .229 & .316 & .238 & .107 & .147 & .0 & .0 & .0 & .0 & .0 & .0 \\\\\n",
    "                    Base-1068 \\Plus CE & .649 & .519 & .577 & .475 & .38 & .422 & .518 & .373 & .433 & .518 & .373 & .433 & .671 & .473 & .554 & .371 & .262 & .307 & .518 & .373 & .433 & .518 & .373 & .433 & .623 & .259 & .366 & \\underline{.547} & \\underline{.227} & \\underline{.321} & .0 & .0 & .0 & .0 & .0 & .0 \\\\\n",
    "'''"
   ]
  },
  {
   "cell_type": "code",
   "execution_count": 61,
   "metadata": {},
   "outputs": [],
   "source": [
    "table_lines = original_table.split('\\n')"
   ]
  },
  {
   "cell_type": "code",
   "execution_count": 62,
   "metadata": {},
   "outputs": [],
   "source": [
    "table_1 = ''\n",
    "table_2 = ''\n",
    "\n",
    "for table_line in table_lines:\n",
    "    current_amps = table_line.count('&')\n",
    "    if current_amps > 0:\n",
    "        table_1_amps = int((current_amps * 2) / 6)\n",
    "        line_splits = table_line.split('&')\n",
    "        table_1 += line_splits[0] + ' & ' + ' & '.join(line_splits[1:table_1_amps+1]) + r' \\\\'\n",
    "        table_2 += line_splits[0] + ' & ' + ' & '.join(line_splits[(table_1_amps+1):])\n",
    "    elif '37' in table_line:\n",
    "        table_1 += r'\\multicolumn{13}{l}{ \\Plus Fine-tuning (unfreezing) BERT} \\\\'\n",
    "        table_2 += r'\\multicolumn{25}{l}{ \\Plus Fine-tuning (unfreezing) BERT} \\\\'\n",
    "    else:\n",
    "        table_1 += table_line\n",
    "        table_2 += table_line\n",
    "\n",
    "    table_1 += '\\n'\n",
    "    table_2 += '\\n'"
   ]
  },
  {
   "cell_type": "code",
   "execution_count": 63,
   "metadata": {},
   "outputs": [
    {
     "name": "stdout",
     "output_type": "stream",
     "text": [
      "\\toprule\n",
      "                    \\multirow{3}{*}{\\textbf{Configuration}}  &  \\multicolumn{6}{c|}{\\textbf{Literal coarse}}  &  \\multicolumn{6}{c|}{\\textbf{Metonymic coarse}}  \\\\\n",
      "                     &  \\multicolumn{3}{c}{\\textbf{Fuzzy}}  &  \\multicolumn{3}{c|}{\\textbf{Strict}}  &  \\multicolumn{3}{c}{\\textbf{Fuzzy}}  &  \\multicolumn{3}{c|}{\\textbf{Strict}}  \\\\\n",
      "                     &  P  &  R  &  F  &  P  &  R  &  F  &  P  &  R  &  F  &  P  &  R  &  F  \\\\\n",
      "                    \\midrule\n",
      "                    Base-64 \\Plus CE  &  .642  &  .559  &  .597  &  .471  &  .411  &  .439  &  \\underline{.628}  &  .25  &  .358  &  \\underline{.617}  &  .246  &  .352  \\\\\n",
      "                    Base-64 \\Plus CE \\Plus FT  &  .664  &  .528  &  .588  &  .491  &  .391  &  .435  &  \\textbf{.653}  &  \\textbf{.559}  &  \\textbf{.603}  &  \\textbf{.653}  &  \\textbf{.559}  &  \\textbf{.603}  \\\\\n",
      "                    Base-768 \\Plus CE \\Plus FT  &  .695  &  .52  &  .595  &  .513  &  .384  &  .44  &  .597  &  \\underline{.39}  &  \\underline{.472}  &  .597  &  \\underline{.39}  &  \\underline{.472}  \\\\\n",
      "                    Base-64 \\Plus CE \\Plus BERT  &  \\textbf{.842}  &  .554  &  .668  &  \\textbf{.668}  &  .439  &  .53  &  .0  &  .0  &  .0  &  .0  &  .0  &  .0  \\\\\n",
      "                    Base-300 \\Plus CE \\Plus BERT  &  \\underline{.804}  &  \\underline{.578}  &  \\textbf{.672}  &  \\underline{.645}  &  \\underline{.464}  &  \\textbf{.54}  &  .0  &  .0  &  .0  &  .0  &  .0  &  .0  \\\\\n",
      "                    Base-64 \\Plus CE \\Plus FT \\Plus BERT  &  .68  &  \\textbf{.659}  &  \\underline{.669}  &  .516  &  \\textbf{.5}  &  .508  &  .0  &  .0  &  .0  &  .0  &  .0  &  .0  \\\\\n",
      "                    Base-1068 \\Plus CE  &  .649  &  .519  &  .577  &  .475  &  .38  &  .422  &  .518  &  .373  &  .433  &  .518  &  .373  &  .433  \\\\\n",
      "\n",
      "\n"
     ]
    }
   ],
   "source": [
    "print(table_1)"
   ]
  },
  {
   "cell_type": "code",
   "execution_count": 64,
   "metadata": {},
   "outputs": [
    {
     "name": "stdout",
     "output_type": "stream",
     "text": [
      "\\toprule\n",
      "                    \\multirow{3}{*}{\\textbf{Configuration}}  &  \\multicolumn{6}{c|}{\\textbf{Literal fine}}  &  \\multicolumn{6}{c|}{\\textbf{Metonymic fine}}  &  \\multicolumn{6}{c|}{\\textbf{Component}}  &  \\multicolumn{6}{c}{\\textbf{Nested}}   \\\\\n",
      "                     &  \\multicolumn{3}{c}{\\textbf{Fuzzy}}  &  \\multicolumn{3}{c|}{\\textbf{Strict}}  &  \\multicolumn{3}{c}{\\textbf{Fuzzy}}  &  \\multicolumn{3}{c|}{\\textbf{Strict}}  &  \\multicolumn{3}{c}{\\textbf{Fuzzy}}  &  \\multicolumn{3}{c|}{\\textbf{Strict}}  &  \\multicolumn{3}{c}{\\textbf{Fuzzy}}  &  \\multicolumn{3}{c}{\\textbf{Strict}} \\\\\n",
      "                     &  P  &  R  &  F  &  P  &  R  &  F  &  P  &  R  &  F  &  P  &  R  &  F  &  P  &  R  &  F  &  P  &  R  &  F  &  P  &  R  &  F  &  P  &  R  &  F \\\\\n",
      "                    \\midrule\n",
      "                    Base-64 \\Plus CE  &  .684  &  .529  &  .596  &  .426  &  \\textbf{.33}  &  \\underline{.372}  &  \\textbf{.663}  &  .242  &  .354  &  \\textbf{.651}  &  .237  &  .348  &  .567  &  \\textbf{.316}  &  \\textbf{.405}  &  .45  &  \\textbf{.251}  &  \\textbf{.322}  &  .0  &  .0  &  .0  &  .0  &  .0  &  .0 \\\\\n",
      "                    Base-64 \\Plus CE \\Plus FT  &  .698  &  .511  &  .59  &  \\underline{.444}  &  \\underline{.325}  &  \\textbf{.375}  &  \\underline{.65}  &  \\textbf{.568}  &  \\textbf{.606}  &  \\underline{.65}  &  \\textbf{.568}  &  \\textbf{.606}  &  \\underline{.632}  &  .277  &  \\underline{.385}  &  .508  &  .223  &  .31  &  .0  &  .0  &  .0  &  .0  &  .0  &  .0 \\\\\n",
      "                    Base-768 \\Plus CE \\Plus FT  &  .746  &  .483  &  .586  &  \\textbf{.454}  &  .294  &  .357  &  .58  &  \\underline{.398}  &  \\underline{.472}  &  .58  &  \\underline{.398}  &  \\underline{.472}  &  \\textbf{.645}  &  .248  &  .358  &  \\textbf{.56}  &  .216  &  .312  &  .0  &  .0  &  .0  &  .0  &  .0  &  .0 \\\\\n",
      "                    Base-64 \\Plus CE \\Plus BERT  &  \\textbf{.839}  &  .516  &  .639  &  .391  &  .241  &  .298  &  .0  &  .0  &  .0  &  .0  &  .0  &  .0  &  .484  &  \\underline{.289}  &  .362  &  .362  &  .216  &  .27  &  .0  &  .0  &  .0  &  .0  &  .0  &  .0 \\\\\n",
      "                    Base-300 \\Plus CE \\Plus BERT  &  \\underline{.813}  &  \\underline{.551}  &  \\underline{.657}  &  .367  &  .248  &  .296  &  .0  &  .0  &  .0  &  .0  &  .0  &  .0  &  .622  &  .231  &  .337  &  .481  &  .179  &  .261  &  .0  &  .0  &  .0  &  .0  &  .0  &  .0 \\\\\n",
      "                    Base-64 \\Plus CE \\Plus FT \\Plus BERT  &  .774  &  \\textbf{.619}  &  \\textbf{.688}  &  .31  &  .248  &  .275  &  .0  &  .0  &  .0  &  .0  &  .0  &  .0  &  .51  &  .229  &  .316  &  .238  &  .107  &  .147  &  .0  &  .0  &  .0  &  .0  &  .0  &  .0 \\\\\n",
      "                    Base-1068 \\Plus CE  &  .671  &  .473  &  .554  &  .371  &  .262  &  .307  &  .518  &  .373  &  .433  &  .518  &  .373  &  .433  &  .623  &  .259  &  .366  &  \\underline{.547}  &  \\underline{.227}  &  \\underline{.321}  &  .0  &  .0  &  .0  &  .0  &  .0  &  .0 \\\\\n",
      "\n",
      "\n"
     ]
    }
   ],
   "source": [
    "print(table_2)"
   ]
  },
  {
   "cell_type": "code",
   "execution_count": null,
   "metadata": {},
   "outputs": [],
   "source": []
  },
  {
   "cell_type": "code",
   "execution_count": null,
   "metadata": {},
   "outputs": [],
   "source": []
  }
 ],
 "metadata": {
  "kernelspec": {
   "display_name": "Python 3.7.5 64-bit ('eval-env': conda)",
   "language": "python",
   "name": "python37564bitevalenvcondab07c5918277c4c33a244293f5160293b"
  },
  "language_info": {
   "codemirror_mode": {
    "name": "ipython",
    "version": 3
   },
   "file_extension": ".py",
   "mimetype": "text/x-python",
   "name": "python",
   "nbconvert_exporter": "python",
   "pygments_lexer": "ipython3",
   "version": "3.7.5"
  }
 },
 "nbformat": 4,
 "nbformat_minor": 4
}

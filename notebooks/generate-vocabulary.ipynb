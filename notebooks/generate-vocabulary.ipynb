{
 "cells": [
  {
   "cell_type": "code",
   "execution_count": 2,
   "metadata": {},
   "outputs": [],
   "source": [
    "import os\n",
    "import pickle\n",
    "import numpy as np"
   ]
  },
  {
   "cell_type": "code",
   "execution_count": 3,
   "metadata": {},
   "outputs": [],
   "source": [
    "def save_pickle(pickle_path: str, data_to_save):\n",
    "    with open(pickle_path, 'wb') as pickle_handle:\n",
    "        pickle.dump(data_to_save, pickle_handle, protocol=-1)\n",
    "\n",
    "def load_pickle(pickle_path: str):\n",
    "    if not os.path.exists(pickle_path):\n",
    "        return None\n",
    "    \n",
    "    with open(pickle_path, 'rb') as pickle_handle:\n",
    "        data = pickle.load(pickle_handle)\n",
    "        return data"
   ]
  },
  {
   "cell_type": "code",
   "execution_count": 36,
   "metadata": {},
   "outputs": [],
   "source": [
    "full_data_path = os.path.join('..', 'data', 'ocr', 'full')\n",
    "vocabulary_path = os.path.join('..', 'data', 'ocr', 'pickles', 'vocabulary.pickle')\n",
    "\n",
    "vocabulary_data = load_pickle(vocabulary_path)\n",
    "if not vocabulary_data:\n",
    "    data_characters = set([])\n",
    "    all_files_count = len(os.listdir(full_data_path))\n",
    "    for i, filename in enumerate(os.listdir(full_data_path)):\n",
    "        print(f'{i}/{all_files_count}               \\r', end='')\n",
    "        file_path = os.path.join(full_data_path, filename)\n",
    "        with open(file_path, 'r', encoding='utf-8') as data_file:\n",
    "            file_characters = set(data_file.read())\n",
    "            data_characters = data_characters.union(file_characters)\n",
    "\n",
    "    data_characters = list(data_characters)\n",
    "    data_characters.insert(0, '[PAD]')\n",
    "    data_characters.insert(1, '[UNK]')\n",
    "    data_characters.insert(2, '[CLS]')\n",
    "    data_characters.insert(3, '[EOS]')\n",
    "    \n",
    "    # use enumeration to give the characters integer values\n",
    "    int2char = dict(enumerate(data_characters))\n",
    "\n",
    "    # create the look up dictionary from characters to the assigned integers\n",
    "    char2int = {char: index for index, char in int2char.items()}\n",
    "    \n",
    "    vocabulary_data = {\n",
    "        'characters-set': data_characters,\n",
    "        'int2char': int2char,\n",
    "        'char2int': char2int\n",
    "    }\n",
    "    \n",
    "    save_pickle(vocabulary_path, vocabulary_data)"
   ]
  },
  {
   "cell_type": "code",
   "execution_count": 37,
   "metadata": {},
   "outputs": [
    {
     "name": "stdout",
     "output_type": "stream",
     "text": [
      "{0: '[PAD]', 1: '[UNK]', 2: '[CLS]', 3: '[EOS]', 4: '.', 5: '½', 6: 'ε', 7: 'Λ', 8: '(', 9: 'Í', 10: '8', 11: 'J', 12: 'λ', 13: '—', 14: 'ē', 15: '5', 16: 'V', 17: 'Œ', 18: 'À', 19: 'h', 20: '†', 21: 'q', 22: \"'\", 23: 'В', 24: 'á', 25: 'ì', 26: '`', 27: 'È', 28: '¾', 29: '¬', 30: 'W', 31: 'y', 32: 'Φ', 33: '»', 34: 'Ñ', 35: 't', 36: 'ꝰ', 37: '°', 38: 'έ', 39: ',', 40: '®', 41: '►', 42: 'n', 43: 'η', 44: '’', 45: 'Ë', 46: '˚', 47: '✓', 48: 'κ', 49: 'X', 50: '⅛', 51: 'Ä', 52: '\\uefa1', 53: 'õ', 54: 'Z', 55: '\\ueada', 56: 'ò', 57: 'ó', 58: '\\\\', 59: '\\uf52d', 60: ']', 61: '~', 62: 'Ö', 63: 'v', 64: 'ô', 65: 'p', 66: '&', 67: '▼', 68: 'Ê', 69: ':', 70: 'ç', 71: '́', 72: 'а', 73: 'ñ', 74: 'ﬄ', 75: '3', 76: '0', 77: ' ', 78: 'æ', 79: 'L', 80: 'Х', 81: 'ι', 82: 'R', 83: '«', 84: 'γ', 85: '¦', 86: 'P', 87: 'r', 88: '{', 89: 'b', 90: 'Q', 91: 'ﬂ', 92: 'é', 93: 'χ', 94: '■', 95: '9', 96: 'ū', 97: '\\uf51c', 98: 'd', 99: 'N', 100: 'ā', 101: 'I', 102: '*', 103: 'Р', 104: '℔', 105: '‘', 106: 'ﬁ', 107: '∙', 108: '4', 109: 'Ú', 110: '„', 111: 'ẽ', 112: 'z', 113: '―', 114: 'ö', 115: 'Ç', 116: 'k', 117: 'c', 118: 'ÿ', 119: 'ù', 120: '€', 121: 'ְ', 122: '6', 123: '⅔', 124: 'ρ', 125: '[', 126: 'î', 127: '”', 128: 'à', 129: 'Ï', 130: 'ê', 131: 'G', 132: 'C', 133: 'U', 134: '…', 135: 'ή', 136: 'i', 137: '>', 138: '£', 139: 'Ó', 140: '?', 141: 'ď', 142: '_', 143: ')', 144: '\\uf219', 145: 'l', 146: ';', 147: 'Ô', 148: '⅜', 149: 'u', 150: 'K', 151: '^', 152: '$', 153: '‐', 154: '™', 155: 'ꝓ', 156: '“', 157: 'Ù', 158: 'ï', 159: '\\ueba3', 160: 'ō', 161: '§', 162: 'ς', 163: 'А', 164: '₤', 165: '-', 166: 'M', 167: '¯', 168: 'Е', 169: 'Ü', 170: '\\ueba6', 171: '©', 172: 'Â', 173: 'о', 174: 'O', 175: '¼', 176: 'ﬀ', 177: 'í', 178: '\\uf515', 179: 'α', 180: '!', 181: '=', 182: '\\ueba2', 183: '1', 184: '\\ueba7', 185: 'D', 186: 'x', 187: '¡', 188: '¶', 189: '\"', 190: 'ν', 191: 'О', 192: '\\n', 193: '⅓', 194: 'ﬃ', 195: 'w', 196: 'τ', 197: '\\ueec5', 198: 'ß', 199: 'ɩ', 200: '<', 201: '‡', 202: 'ﬆ', 203: 'S', 204: '´', 205: 'М', 206: '☜', 207: '′', 208: 'ä', 209: '⸗', 210: 'A', 211: '±', 212: 'â', 213: '+', 214: '¥', 215: 'ë', 216: 'Փ', 217: 'E', 218: 'É', 219: 'm', 220: 'è', 221: 'Y', 222: 'a', 223: 'F', 224: '♦', 225: '\\ue781', 226: 'Û', 227: '⅞', 228: '}', 229: 'j', 230: 's', 231: '2', 232: 'œ', 233: '◊', 234: '%', 235: 'B', 236: '/', 237: '·', 238: '″', 239: '‑', 240: 'f', 241: 'δ', 242: '|', 243: '¿', 244: 'g', 245: 'û', 246: '•', 247: 'H', 248: '7', 249: '⅝', 250: 'Î', 251: 'ᶜ', 252: 'ú', 253: 'ο', 254: 'º', 255: '\\uf1a6', 256: '\\uf50a', 257: 'T', 258: 'ü', 259: '\\uf50b', 260: 'Á', 261: 'б', 262: 'e', 263: '☞', 264: '–', 265: 'Æ', 266: 'o', 267: '▲', 268: '¢', 269: 'φ', 270: 'ſ'}\n"
     ]
    }
   ],
   "source": [
    "print(vocabulary_data['int2char'])"
   ]
  },
  {
   "cell_type": "code",
   "execution_count": null,
   "metadata": {},
   "outputs": [],
   "source": []
  }
 ],
 "metadata": {
  "kernelspec": {
   "display_name": "Python 3.7.5 64-bit ('eval-env': conda)",
   "language": "python",
   "name": "python37564bitevalenvcondab07c5918277c4c33a244293f5160293b"
  },
  "language_info": {
   "codemirror_mode": {
    "name": "ipython",
    "version": 3
   },
   "file_extension": ".py",
   "mimetype": "text/x-python",
   "name": "python",
   "nbconvert_exporter": "python",
   "pygments_lexer": "ipython3",
   "version": "3.7.5"
  }
 },
 "nbformat": 4,
 "nbformat_minor": 4
}

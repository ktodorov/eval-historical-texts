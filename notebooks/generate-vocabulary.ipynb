{
 "cells": [
  {
   "cell_type": "code",
   "execution_count": 1,
   "metadata": {},
   "outputs": [],
   "source": [
    "import os\n",
    "import pickle\n",
    "import numpy as np"
   ]
  },
  {
   "cell_type": "code",
   "execution_count": 2,
   "metadata": {},
   "outputs": [],
   "source": [
    "def save_pickle(pickle_path: str, data_to_save):\n",
    "    with open(pickle_path, 'wb') as pickle_handle:\n",
    "        pickle.dump(data_to_save, pickle_handle, protocol=-1)\n",
    "\n",
    "def load_pickle(pickle_path: str):\n",
    "    if not os.path.exists(pickle_path):\n",
    "        return None\n",
    "    \n",
    "    with open(pickle_path, 'rb') as pickle_handle:\n",
    "        data = pickle.load(pickle_handle)\n",
    "        return data"
   ]
  },
  {
   "cell_type": "code",
   "execution_count": 6,
   "metadata": {},
   "outputs": [],
   "source": [
    "full_data_path = os.path.join('..', 'data', 'post-ocr-correction', 'full')\n",
    "vocabulary_path = os.path.join('..', 'data', 'post-ocr-correction', 'pickles', 'vocabulary.pickle')\n",
    "\n",
    "vocabulary_data = load_pickle(vocabulary_path)\n",
    "if not vocabulary_data:\n",
    "    data_characters = set([])\n",
    "    all_files_count = len(os.listdir(full_data_path))\n",
    "    for i, filename in enumerate(os.listdir(full_data_path)):\n",
    "        print(f'{i}/{all_files_count}               \\r', end='')\n",
    "        file_path = os.path.join(full_data_path, filename)\n",
    "        with open(file_path, 'r', encoding='utf-8') as data_file:\n",
    "            file_characters = set(data_file.read())\n",
    "            data_characters = data_characters.union(file_characters)\n",
    "\n",
    "    data_characters = list(data_characters)\n",
    "    data_characters.insert(0, '[PAD]')\n",
    "    data_characters.insert(1, '[UNK]')\n",
    "    data_characters.insert(2, '[CLS]')\n",
    "    data_characters.insert(3, '[EOS]')\n",
    "    \n",
    "    # use enumeration to give the characters integer values\n",
    "    int2char = dict(enumerate(data_characters))\n",
    "\n",
    "    # create the look up dictionary from characters to the assigned integers\n",
    "    char2int = {char: index for index, char in int2char.items()}\n",
    "    \n",
    "    vocabulary_data = {\n",
    "        'characters-set': data_characters,\n",
    "        'int2char': int2char,\n",
    "        'char2int': char2int\n",
    "    }\n",
    "    \n",
    "    save_pickle(vocabulary_path, vocabulary_data)"
   ]
  },
  {
   "cell_type": "code",
   "execution_count": 7,
   "metadata": {},
   "outputs": [
    {
     "name": "stdout",
     "output_type": "stream",
     "text": [
      "{0: '[PAD]', 1: '[UNK]', 2: '[CLS]', 3: '[EOS]', 4: '“', 5: '¿', 6: 'Ù', 7: '`', 8: 'Q', 9: '!', 10: '″', 11: 'ẽ', 12: 'О', 13: 'ſ', 14: 'x', 15: '\\ue781', 16: '₤', 17: '¡', 18: '©', 19: '✓', 20: 'ō', 21: 'Y', 22: '-', 23: '€', 24: 'ɩ', 25: '<', 26: '\\\\', 27: 'B', 28: 'y', 29: '▲', 30: '\"', 31: '@', 32: '\\ueba6', 33: '*', 34: '1', 35: 'û', 36: 'õ', 37: 'u', 38: '±', 39: 'J', 40: 'Λ', 41: '$', 42: 'Ú', 43: 'ﬄ', 44: 'Î', 45: 'b', 46: 'Ñ', 47: 'ꝰ', 48: 'N', 49: '℔', 50: '°', 51: 'М', 52: 'Ç', 53: 'é', 54: '‐', 55: 'V', 56: ';', 57: '¶', 58: 'о', 59: 'κ', 60: 'A', 61: '—', 62: '«', 63: '¦', 64: 'C', 65: '3', 66: '»', 67: 'Z', 68: ')', 69: 'L', 70: 'ﬁ', 71: 'M', 72: 'T', 73: '®', 74: '?', 75: '+', 76: '>', 77: '}', 78: 'S', 79: '¼', 80: 'γ', 81: 'η', 82: 'χ', 83: '·', 84: 'r', 85: '′', 86: '⅞', 87: '◊', 88: 'a', 89: 'ē', 90: 'á', 91: '5', 92: 'g', 93: 'â', 94: '(', 95: 'È', 96: 'ß', 97: ':', 98: 'Φ', 99: '\\uf219', 100: 'φ', 101: 'ﬂ', 102: 'G', 103: 'Е', 104: '{', 105: '…', 106: '&', 107: '\\ueba7', 108: '\\uefa1', 109: '9', 110: '§', 111: 'p', 112: '„', 113: '―', 114: 'а', 115: '–', 116: '”', 117: 'ְ', 118: '2', 119: ',', 120: 's', 121: 'R', 122: 'Û', 123: '%', 124: '►', 125: 'ö', 126: 'ó', 127: '#', 128: '^', 129: 'æ', 130: 'λ', 131: 'z', 132: 'j', 133: 'ν', 134: 'W', 135: 'H', 136: 'Ô', 137: '_', 138: 'ﬀ', 139: 'Ö', 140: 'ï', 141: 'ü', 142: 'ﬃ', 143: 'n', 144: 'e', 145: '¯', 146: 'έ', 147: 'f', 148: 'Р', 149: 'k', 150: 't', 151: 'ο', 152: 'P', 153: 'б', 154: 'ñ', 155: 'А', 156: 'd', 157: 'Í', 158: 'ι', 159: 'Ä', 160: '☜', 161: '/', 162: 'Ê', 163: '⅓', 164: '\\n', 165: '\\ueba3', 166: 'q', 167: '⅔', 168: 'h', 169: '\\ueba2', 170: 'Ü', 171: '■', 172: ']', 173: 'ê', 174: 'ε', 175: 'ā', 176: '´', 177: 'O', 178: '⅝', 179: 'Փ', 180: 'ς', 181: 'è', 182: 'ä', 183: '’', 184: 'I', 185: 'à', 186: 'U', 187: 'D', 188: '¢', 189: 'K', 190: 'Á', 191: 'Œ', 192: 'î', 193: \"'\", 194: 'ﬆ', 195: '‡', 196: '\\uf50a', 197: 'À', 198: '7', 199: 'œ', 200: '\\ueada', 201: '8', 202: 'В', 203: 'ᶜ', 204: '½', 205: 'Ï', 206: '6', 207: 'τ', 208: '\\uf52d', 209: '☞', 210: 'ÿ', 211: '4', 212: 'ù', 213: '‘', 214: 'ꝓ', 215: 'Ë', 216: '~', 217: 'ρ', 218: 'δ', 219: '¬', 220: '\\uf50b', 221: 'Â', 222: 'ì', 223: 'α', 224: '|', 225: '⸗', 226: '˚', 227: 'F', 228: 'o', 229: 'Æ', 230: 'ú', 231: 'ò', 232: 'Х', 233: '♦', 234: 'w', 235: 'º', 236: 'l', 237: '\\uf1a6', 238: '†', 239: '•', 240: '\\ueec5', 241: '▼', 242: 'ď', 243: 'ô', 244: 'ë', 245: '‑', 246: 'c', 247: '⅜', 248: 'i', 249: '∙', 250: 'v', 251: '\\uf515', 252: '¥', 253: 'm', 254: '™', 255: '⅛', 256: 'ή', 257: 'Ó', 258: ' ', 259: 'É', 260: '¾', 261: '=', 262: '[', 263: 'E', 264: '£', 265: 'ç', 266: '\\uf51c', 267: '.', 268: '0', 269: '́', 270: 'ū', 271: 'í', 272: 'X'}\n"
     ]
    }
   ],
   "source": [
    "print(vocabulary_data['int2char'])"
   ]
  },
  {
   "cell_type": "code",
   "execution_count": null,
   "metadata": {},
   "outputs": [],
   "source": []
  }
 ],
 "metadata": {
  "kernelspec": {
   "display_name": "Python 3.7.5 64-bit ('eval-env': conda)",
   "language": "python",
   "name": "python37564bitevalenvcondab07c5918277c4c33a244293f5160293b"
  },
  "language_info": {
   "codemirror_mode": {
    "name": "ipython",
    "version": 3
   },
   "file_extension": ".py",
   "mimetype": "text/x-python",
   "name": "python",
   "nbconvert_exporter": "python",
   "pygments_lexer": "ipython3",
   "version": "3.7.5"
  }
 },
 "nbformat": 4,
 "nbformat_minor": 4
}

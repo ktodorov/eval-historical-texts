{
 "cells": [
  {
   "cell_type": "code",
   "execution_count": 6,
   "metadata": {},
   "outputs": [],
   "source": [
    "import numpy as np"
   ]
  },
  {
   "cell_type": "code",
   "execution_count": 43,
   "metadata": {},
   "outputs": [],
   "source": [
    "table_str = r'''\n",
    "            Base-64 \\Plus CE \\Plus FT \\Plus BERT & \\textbf{.421} & \\underline{.622} & \\textbf{.502} & \\underline{.203} & \\textbf{.301} & \\textbf{.243} \\\\\n",
    "            Base-1132 \\Plus CE & .266 & \\textbf{.627} & .374 & .123 & \\underline{.29} & .173 \\\\\n",
    "            Base-364 \\Plus CE \\Plus BERT & .385 & .532 & .447 & .205 & .283 & .237 \\\\\n",
    "            Base-832 \\Plus CE \\Plus FT & .307 & .592 & .404 & .146 & .283 & .193 \\\\\n",
    "'''"
   ]
  },
  {
   "cell_type": "code",
   "execution_count": 44,
   "metadata": {},
   "outputs": [],
   "source": [
    "table_rows = []\n",
    "string_rows = {}\n",
    "\n",
    "for i, table_row in enumerate(table_str.split('\\n')):\n",
    "    if table_row == '':\n",
    "        continue\n",
    "    \n",
    "    if table_row.count('&') < 5:\n",
    "        string_rows[i] = table_row\n",
    "        continue\n",
    "        \n",
    "    table_rows.append(table_row)\n"
   ]
  },
  {
   "cell_type": "code",
   "execution_count": 45,
   "metadata": {},
   "outputs": [],
   "source": [
    "def str_is_float(val):\n",
    "    try:\n",
    "        return float(val)\n",
    "    except ValueError:\n",
    "        return None\n",
    "\n",
    "def clean_value(val):\n",
    "    val = val.strip()\n",
    "    \n",
    "    if '\\\\textbf' in val or '\\\\underline' or r'\\\\' in val:\n",
    "        val = val.replace('\\\\textbf{', '').replace('\\\\underline{', '').replace('}', '').replace(r'\\\\', '')\n",
    "        \n",
    "       \n",
    "    float_val = str_is_float(val)\n",
    "    if float_val is not None:\n",
    "        return float_val\n",
    "    else:\n",
    "        return val\n",
    "        \n",
    "table_values = np.array([[clean_value(val) for val in table_row.split('&')[1:]] for table_row in table_rows if table_row.count('&') > 0])\n",
    "table_rows_headers = [table_row.split('&')[0].strip() for table_row in table_rows]"
   ]
  },
  {
   "cell_type": "code",
   "execution_count": 46,
   "metadata": {},
   "outputs": [],
   "source": [
    "max_values = []\n",
    "second_values = []\n",
    "\n",
    "for i in range(len(table_values[0])):\n",
    "    current_items = table_values[:, i]\n",
    "    max_index = np.argmax(current_items)\n",
    "    max_value = np.max(current_items)\n",
    "    max_values.append(max_value)\n",
    "    \n",
    "    mask = np.ones(current_items.shape, bool)\n",
    "    mask[max_index] = False\n",
    "    second_values.append(np.max(current_items[mask]))"
   ]
  },
  {
   "cell_type": "code",
   "execution_count": 47,
   "metadata": {},
   "outputs": [],
   "source": [
    "def add_string_rows(current_result):\n",
    "    while True:\n",
    "        current_entries = current_result.count('\\n') + 1\n",
    "        if current_entries in string_rows.keys():\n",
    "            current_result += f'{string_rows[current_entries]}\\n'\n",
    "        else:\n",
    "            break\n",
    "            \n",
    "    return current_result"
   ]
  },
  {
   "cell_type": "code",
   "execution_count": 48,
   "metadata": {},
   "outputs": [
    {
     "name": "stdout",
     "output_type": "stream",
     "text": [
      "Base-64 \\Plus CE \\Plus FT \\Plus BERT & \\textbf{.421} & \\underline{.622} & \\textbf{.502} & \\underline{.203} & \\textbf{.301} & \\textbf{.243} \\\\\n",
      "Base-1132 \\Plus CE & .266 & \\textbf{.627} & .374 & .123 & \\underline{.29} & .173 \\\\\n",
      "Base-364 \\Plus CE \\Plus BERT & \\underline{.385} & .532 & \\underline{.447} & \\textbf{.205} & .283 & \\underline{.237} \\\\\n",
      "Base-832 \\Plus CE \\Plus FT & .307 & .592 & .404 & .146 & .283 & .193 \\\\\n",
      "\n"
     ]
    }
   ],
   "source": [
    "result = ''\n",
    "for (table_row_header, row_values) in zip(table_rows_headers, table_values):\n",
    "    result = add_string_rows(result)\n",
    "    result += f'{table_row_header} & '\n",
    "    \n",
    "    for i, row_value in enumerate(row_values):\n",
    "        if row_value == max_values[i]:\n",
    "            result += r'\\textbf{' + str(row_value)[1:] + '} & '\n",
    "        elif row_value == second_values[i]:\n",
    "            result += r'\\underline{' + str(row_value)[1:] + '} & '\n",
    "        else:\n",
    "            result += f'{str(row_value)[1:]} & '\n",
    "            \n",
    "    result = result[:-2]\n",
    "    result += r'\\\\' + '\\n'\n",
    "    \n",
    "result = add_string_rows(result)\n",
    "print(result)"
   ]
  },
  {
   "cell_type": "code",
   "execution_count": null,
   "metadata": {},
   "outputs": [],
   "source": []
  },
  {
   "cell_type": "code",
   "execution_count": null,
   "metadata": {},
   "outputs": [],
   "source": []
  }
 ],
 "metadata": {
  "kernelspec": {
   "display_name": "Python 3.7.5 64-bit ('eval-env': conda)",
   "language": "python",
   "name": "python37564bitevalenvcondab07c5918277c4c33a244293f5160293b"
  },
  "language_info": {
   "codemirror_mode": {
    "name": "ipython",
    "version": 3
   },
   "file_extension": ".py",
   "mimetype": "text/x-python",
   "name": "python",
   "nbconvert_exporter": "python",
   "pygments_lexer": "ipython3",
   "version": "3.7.5"
  }
 },
 "nbformat": 4,
 "nbformat_minor": 4
}

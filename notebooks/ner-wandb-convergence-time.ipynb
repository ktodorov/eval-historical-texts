{
 "cells": [
  {
   "cell_type": "code",
   "execution_count": 34,
   "metadata": {},
   "outputs": [],
   "source": [
    "import wandb\n",
    "import matplotlib.pyplot as plt\n",
    "import scipy\n",
    "import numpy as np\n",
    "import json\n",
    "import os\n",
    "from collections import defaultdict\n",
    "from copy import deepcopy\n",
    "\n",
    "plt.rcParams[\"axes.grid\"] = False\n",
    "\n",
    "import sys\n",
    "sys.path.append('..')"
   ]
  },
  {
   "cell_type": "code",
   "execution_count": 35,
   "metadata": {},
   "outputs": [],
   "source": [
    "language = 'german'\n",
    "\n",
    "sys.argv = [\n",
    "\"--device cuda\",\n",
    "\"--data-folder\", \"..\\\\data\",\n",
    "\"--seed\", \"13\",\n",
    "\"--configuration\", \"char-to-char\",\n",
    "\"--language\", language,\n",
    "\"--challenge\", \"named-entity-recognition\"]"
   ]
  },
  {
   "cell_type": "code",
   "execution_count": 36,
   "metadata": {},
   "outputs": [],
   "source": [
    "# Configure container:\n",
    "from dependency_injection.ioc_container import IocContainer\n",
    "\n",
    "container = IocContainer()"
   ]
  },
  {
   "cell_type": "code",
   "execution_count": 37,
   "metadata": {},
   "outputs": [],
   "source": [
    "plot_service = container.plot_service()\n",
    "file_service = container.file_service()"
   ]
  },
  {
   "cell_type": "code",
   "execution_count": 38,
   "metadata": {},
   "outputs": [],
   "source": [
    "entity = 'eval-historical-texts'\n",
    "project = 'named-entity-recognition'"
   ]
  },
  {
   "cell_type": "code",
   "execution_count": 39,
   "metadata": {},
   "outputs": [],
   "source": [
    "def get_wandb_runs(run_filters: dict):\n",
    "    api = wandb.Api()\n",
    "    runs = api.runs(path=f'{entity}/{project}', filters=run_filters)\n",
    "    return runs"
   ]
  },
  {
   "cell_type": "code",
   "execution_count": 40,
   "metadata": {
    "tags": []
   },
   "outputs": [],
   "source": [
    "main_config = {\n",
    "    'createdAt': {\n",
    "        '$gt': '20200710000000'\n",
    "    },\n",
    "    'state': 'finished',\n",
    "}\n",
    "\n",
    "available_filters = {\n",
    "    'multi-task-document': {\n",
    "        'config.split_type': 'document',\n",
    "        'config.entity_tag_types': [\"literal-fine\",\"literal-coarse\",\"metonymic-fine\",\"metonymic-coarse\",\"component\",\"nested\"]\n",
    "    },\n",
    "    'multi-task-multi-segment': {\n",
    "        'config.split_type': 'multi-segment',\n",
    "        'config.entity_tag_types': [\"literal-fine\",\"literal-coarse\",\"metonymic-fine\",\"metonymic-coarse\",\"component\",\"nested\"]\n",
    "    },\n",
    "    'single-task-document': {\n",
    "        'config.split_type': 'document',\n",
    "        'config.entity_tag_types': {\n",
    "            '$ne': [\"literal-fine\",\"literal-coarse\",\"metonymic-fine\",\"metonymic-coarse\",\"component\",\"nested\"]\n",
    "        }\n",
    "    },\n",
    "    'single-task-multi-segment': {\n",
    "        'config.split_type': 'multi-segment',\n",
    "        'config.entity_tag_types': {\n",
    "            '$ne': [\"literal-fine\",\"literal-coarse\",\"metonymic-fine\",\"metonymic-coarse\",\"component\",\"nested\"]\n",
    "        }\n",
    "    },\n",
    "}"
   ]
  },
  {
   "cell_type": "code",
   "execution_count": 43,
   "metadata": {
    "tags": []
   },
   "outputs": [],
   "source": [
    "runtime_per_conf = {\n",
    "    unique_str: 0.0 for unique_str in available_filters.keys()\n",
    "}\n",
    "\n",
    "conf_runs = {\n",
    "    unique_str: 0 for unique_str in available_filters.keys()\n",
    "}\n",
    "\n",
    "for unique_str, available_filter in available_filters.items():\n",
    "    run_filter = deepcopy(main_config)\n",
    "    run_filter.update(available_filter)\n",
    "    runs = get_wandb_runs(run_filter)\n",
    "    \n",
    "    for run in runs:\n",
    "        runtime = float(run.summary['_runtime'])\n",
    "        runtime_per_conf[unique_str] += runtime\n",
    "        conf_runs[unique_str] += 1\n",
    "    # break"
   ]
  },
  {
   "cell_type": "code",
   "execution_count": 50,
   "metadata": {
    "tags": []
   },
   "outputs": [
    {
     "name": "stdout",
     "output_type": "stream",
     "text": [
      "{'multi-task-document': 23, 'multi-task-multi-segment': 124, 'single-task-document': 12, 'single-task-multi-segment': 13}\n",
      "{'multi-task-document': 478994.86743712425, 'multi-task-multi-segment': 1212422.9030425549, 'single-task-document': 103785.37310910225, 'single-task-multi-segment': 20951.599126577377}\n",
      "multi-task-document\n",
      " - 347.1 minutes\n",
      " - 5.78 hours\n",
      "multi-task-multi-segment\n",
      " - 162.96 minutes\n",
      " - 2.72 hours\n",
      "single-task-document\n",
      " - 144.15 minutes\n",
      " - 2.4 hours\n",
      "single-task-multi-segment\n",
      " - 26.86 minutes\n",
      " - 0.45 hours\n"
     ]
    }
   ],
   "source": [
    "print(conf_runs)\n",
    "print(runtime_per_conf)\n",
    "\n",
    "for unique_str in available_filters.keys():\n",
    "    print(unique_str)\n",
    "    result = runtime_per_conf[unique_str] / conf_runs[unique_str]\n",
    "    print(f' - {round(result / 60, 2)} minutes')\n",
    "    print(f' - {round(result / 3600, 2)} hours')"
   ]
  }
 ],
 "metadata": {
  "kernelspec": {
   "display_name": "Python 3.7.5 64-bit ('eval-env': conda)",
   "language": "python",
   "name": "python37564bitevalenvcondab07c5918277c4c33a244293f5160293b"
  },
  "language_info": {
   "codemirror_mode": {
    "name": "ipython",
    "version": 3
   },
   "file_extension": ".py",
   "mimetype": "text/x-python",
   "name": "python",
   "nbconvert_exporter": "python",
   "pygments_lexer": "ipython3",
   "version": "3.7.5"
  }
 },
 "nbformat": 4,
 "nbformat_minor": 2
}

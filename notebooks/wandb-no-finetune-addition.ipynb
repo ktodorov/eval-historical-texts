{
 "cells": [
  {
   "cell_type": "code",
   "execution_count": 1,
   "metadata": {},
   "outputs": [],
   "source": [
    "import wandb\n",
    "import matplotlib.pyplot as plt\n",
    "import scipy\n",
    "import numpy as np\n",
    "import json\n",
    "\n",
    "plt.rcParams[\"axes.grid\"] = False\n",
    "\n",
    "sys.path.append('..')"
   ]
  },
  {
   "cell_type": "code",
   "execution_count": 2,
   "metadata": {},
   "outputs": [],
   "source": [
    "language = 'french'\n",
    "\n",
    "sys.argv = [\n",
    "\"--device cuda\",\n",
    "\"--data-folder\", \"..\\\\data\",\n",
    "\"--seed\", \"13\",\n",
    "\"--configuration\", \"char-to-char-encoder-decoder\",\n",
    "\"--language\", language,\n",
    "\"--challenge\", \"post-ocr-correction\"]"
   ]
  },
  {
   "cell_type": "code",
   "execution_count": 3,
   "metadata": {},
   "outputs": [],
   "source": [
    "# Configure container:\n",
    "from dependency_injection.ioc_container import IocContainer\n",
    "\n",
    "container = IocContainer()"
   ]
  },
  {
   "cell_type": "code",
   "execution_count": 4,
   "metadata": {},
   "outputs": [],
   "source": [
    "entity = 'eval-historical-texts'\n",
    "project = 'post-ocr-correction'"
   ]
  },
  {
   "cell_type": "code",
   "execution_count": 5,
   "metadata": {},
   "outputs": [],
   "source": [
    "def get_wandb_runs():\n",
    "    api = wandb.Api()\n",
    "    runs = api.runs(path=f'{entity}/{project}', filters={\n",
    "        'createdAt': {\n",
    "            '$gt': '20200621000000'\n",
    "        },\n",
    "        'config.language': language,\n",
    "    })\n",
    "\n",
    "    return runs"
   ]
  },
  {
   "cell_type": "code",
   "execution_count": 6,
   "metadata": {
    "tags": []
   },
   "outputs": [
    {
     "output_type": "stream",
     "name": "stdout",
     "text": "Loaded 8 runs\n"
    }
   ],
   "source": [
    "runs = get_wandb_runs()\n",
    "print(f'Loaded {len(runs)} runs')"
   ]
  },
  {
   "cell_type": "code",
   "execution_count": 7,
   "metadata": {
    "tags": []
   },
   "outputs": [],
   "source": [
    "pretrained_model_type_key = 'pretrained_model_type'\n",
    "fine_tune_key = 'fine_tune'\n",
    "\n",
    "for i, run in enumerate(runs):\n",
    "    if len(run.config.keys()) == 0:# or fine_tune_key in run.config.keys() or pretrained_model_type_key in run.config.keys():\n",
    "        continue\n",
    "\n",
    "    include_pretrained_model = run.config['include_pretrained_model']\n",
    "    include_fasttext_model = run.config['include_fasttext_model']\n",
    "    fine_tune_pretrained = run.config['fine_tune_pretrained']\n",
    "    fine_tune_after_convergence = run.config['fine_tune_after_convergence']\n",
    "\n",
    "    pretr_type = 'none'\n",
    "    if include_pretrained_model and include_fasttext_model:\n",
    "        pretr_type = 'both'\n",
    "    elif include_pretrained_model:\n",
    "        pretr_type = 'bert'\n",
    "    elif include_fasttext_model:\n",
    "        pretr_type = 'fast-text'\n",
    "\n",
    "    fine_tune = (fine_tune_pretrained or fine_tune_after_convergence)\n",
    "\n",
    "    run.config.update({\n",
    "        'pretrained_model_type': pretr_type,\n",
    "        'fine_tune': fine_tune\n",
    "    })\n",
    "\n",
    "    run.update()"
   ]
  },
  {
   "cell_type": "code",
   "execution_count": null,
   "metadata": {},
   "outputs": [],
   "source": []
  }
 ],
 "metadata": {
  "language_info": {
   "codemirror_mode": {
    "name": "ipython",
    "version": 3
   },
   "file_extension": ".py",
   "mimetype": "text/x-python",
   "name": "python",
   "nbconvert_exporter": "python",
   "pygments_lexer": "ipython3",
   "version": "3.7.5-final"
  },
  "orig_nbformat": 2,
  "kernelspec": {
   "name": "python37564bitevalenvcondab07c5918277c4c33a244293f5160293b",
   "display_name": "Python 3.7.5 64-bit ('eval-env': conda)"
  }
 },
 "nbformat": 4,
 "nbformat_minor": 2
}
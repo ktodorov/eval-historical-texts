{
 "cells": [
  {
   "cell_type": "code",
   "execution_count": 1,
   "metadata": {},
   "outputs": [],
   "source": [
    "import os\n",
    "import sys\n",
    "import csv\n",
    "import math\n",
    "from collections import Counter, OrderedDict\n",
    "from enum import Enum\n",
    "from typing import Dict, List, Tuple, Callable\n",
    "import itertools\n",
    "from termcolor import colored\n",
    "from IPython.display import Markdown, display\n",
    "import numpy as np\n",
    "\n",
    "\n",
    "import matplotlib.pyplot as plt\n",
    "plt.rcParams[\"axes.grid\"] = False\n",
    "\n",
    "sys.path.append('..')\n",
    "\n",
    "from enums.language import Language"
   ]
  },
  {
   "cell_type": "code",
   "execution_count": 2,
   "metadata": {},
   "outputs": [],
   "source": [
    "def printmd(string):\n",
    "    display(Markdown(string))"
   ]
  },
  {
   "cell_type": "code",
   "execution_count": 3,
   "metadata": {},
   "outputs": [],
   "source": [
    "sys.argv = [\n",
    "\"--device cuda\",\n",
    "\"--data-folder\", \"..\\\\data\",\n",
    "\"--seed\", \"13\",\n",
    "\"--configuration\", \"rnn-simple\",\n",
    "\"--challenge\", \"named-entity-recognition\",\n",
    "\"--entity-tag-types\", \"literal-coarse\"]"
   ]
  },
  {
   "cell_type": "code",
   "execution_count": 4,
   "metadata": {},
   "outputs": [],
   "source": [
    "# Configure container:\n",
    "from dependency_injection.ioc_container import IocContainer\n",
    "\n",
    "container = IocContainer()"
   ]
  },
  {
   "cell_type": "code",
   "execution_count": 5,
   "metadata": {
    "tags": []
   },
   "outputs": [],
   "source": [
    "plot_service = container.plot_service()\n",
    "file_service = container.file_service()\n"
   ]
  },
  {
   "cell_type": "code",
   "execution_count": 6,
   "metadata": {
    "tags": []
   },
   "outputs": [],
   "source": [
    "languages = [\n",
    "    Language.English,\n",
    "    Language.French,\n",
    "    Language.German\n",
    "]\n",
    "\n",
    "counters_per_language = {\n",
    "    language: Counter() for language in languages\n",
    "}\n",
    "\n",
    "\n",
    "version = '1.2'\n",
    "\n",
    "for language in languages:\n",
    "    language_path = file_service.get_data_path(language=language.value)\n",
    "    filenames = [x for x in os.listdir(language_path) if f'v{version}' in x and 'Copy' not in x and 'old' not in x]\n",
    "    if language == Language.English:\n",
    "        filenames = [x for x in filenames if 'train' not in x]\n",
    "\n",
    "    current_tokens_count = 0\n",
    "    current_decade = None\n",
    "    for filename in filenames:\n",
    "        with open(os.path.join(language_path, filename), 'r', encoding='utf-8') as csv_file:\n",
    "            csv_reader = csv.DictReader(csv_file, dialect=csv.excel_tab, quoting=csv.QUOTE_NONE)\n",
    "            for row in csv_reader:\n",
    "                if row['TOKEN'].startswith('# date'):\n",
    "                    if current_decade is not None:\n",
    "                        counters_per_language[language][current_decade] += current_tokens_count\n",
    "\n",
    "                    current_decade = math.floor(float(row['TOKEN'][9:13]) / 10) * 10\n",
    "                    current_tokens_count = 0\n",
    "                elif not row['TOKEN'].startswith('#') and not row['TOKEN'].startswith(' '):\n",
    "                    current_tokens_count += 1\n",
    "\n",
    "unique_decades = list(sorted(set([label for x in counters_per_language.values() for label in x.keys()])))\n",
    "tags_per_decade = { }\n",
    "\n",
    "for language in languages:\n",
    "    language_path = file_service.get_data_path(language=language.value)\n",
    "    filenames = [x for x in os.listdir(language_path) if f'v{version}' in x and 'Copy' not in x and 'old' not in x]\n",
    "    if language == Language.English:\n",
    "        filenames = [x for x in filenames if 'train' not in x]\n",
    "\n",
    "    current_tokens_count = 0\n",
    "    current_decade = None\n",
    "    for filename in filenames:\n",
    "        with open(os.path.join(language_path, filename), 'r', encoding='utf-8') as csv_file:\n",
    "            csv_reader = csv.DictReader(csv_file, dialect=csv.excel_tab, quoting=csv.QUOTE_NONE)\n",
    "            for row in csv_reader:\n",
    "                if row['TOKEN'].startswith('# date'):\n",
    "                    current_decade = math.floor(float(row['TOKEN'][9:13]) / 10) * 10\n",
    "                elif not row['TOKEN'].startswith('#') and not row['TOKEN'].startswith(' '):\n",
    "                    coarse_entity_str = row['NE-COARSE-LIT']\n",
    "                    if coarse_entity_str.startswith('B-'):\n",
    "                        coarse_entity = coarse_entity_str[2:]\n",
    "                        if coarse_entity not in tags_per_decade.keys():\n",
    "                            tags_per_decade[coarse_entity] = Counter()\n",
    "\n",
    "                        tags_per_decade[coarse_entity][current_decade] += 1"
   ]
  },
  {
   "cell_type": "code",
   "execution_count": 10,
   "metadata": {
    "tags": []
   },
   "outputs": [
    {
     "output_type": "display_data",
     "data": {
      "text/plain": "<Figure size 1440x720 with 0 Axes>"
     },
     "metadata": {}
    }
   ],
   "source": [
    "plot = plot_service.create_plot()\n",
    "\n",
    "language_labels = [x.value.capitalize() for x in counters_per_language.keys()]\n",
    "\n",
    "plot_service.plot_counters_histogram(\n",
    "    counter_labels=language_labels,\n",
    "    counters=counters_per_language.values(),\n",
    "    counter_colors=['firebrick', 'royalblue', 'black'],\n",
    "    save_path=file_service.get_experiments_path(),\n",
    "    filename='ner_tokens_per_language_and_decade',\n",
    "    title='Tokens per decade and language',\n",
    "    ylabel='amount of tokens',\n",
    "    xlabel='decade')\n",
    "\n",
    "decade_labels = [str(x).capitalize() for x in tags_per_decade.keys()]\n",
    "\n",
    "plot_service.plot_counters_histogram(\n",
    "    counter_labels=decade_labels,\n",
    "    counters=tags_per_decade.values(),\n",
    "    counter_colors=['darkred', 'olive', 'orange', 'forestgreen', 'lightseagreen', 'lightcoral'],\n",
    "    save_path=file_service.get_experiments_path(),\n",
    "    filename='ner_mentions_per_tag_and_decade',\n",
    "    title='Mentions per tag and decade',\n",
    "    ylabel='amount of mentions',\n",
    "    xlabel='decade')\n"
   ]
  },
  {
   "cell_type": "code",
   "execution_count": null,
   "metadata": {},
   "outputs": [],
   "source": []
  }
 ],
 "metadata": {
  "kernelspec": {
   "display_name": "Python 3.7.5 64-bit ('eval-env': conda)",
   "language": "python",
   "name": "python37564bitevalenvcondab07c5918277c4c33a244293f5160293b"
  },
  "language_info": {
   "codemirror_mode": {
    "name": "ipython",
    "version": 3
   },
   "file_extension": ".py",
   "mimetype": "text/x-python",
   "name": "python",
   "nbconvert_exporter": "python",
   "pygments_lexer": "ipython3",
   "version": "3.7.5-final"
  }
 },
 "nbformat": 4,
 "nbformat_minor": 4
}